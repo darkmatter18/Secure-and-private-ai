{
 "cells": [
  {
   "cell_type": "markdown",
   "metadata": {},
   "source": [
    "# Neural networks with PyTorch\n",
    "\n",
    "Deep learning networks tend to be massive with dozens or hundreds of layers, that's where the term \"deep\" comes from. You can build one of these deep networks using only weight matrices as we did in the previous notebook, but in general it's very cumbersome and difficult to implement. PyTorch has a nice module `nn` that provides a nice way to efficiently build large neural networks."
   ]
  },
  {
   "cell_type": "code",
   "execution_count": 1,
   "metadata": {},
   "outputs": [],
   "source": [
    "# Import necessary packages\n",
    "\n",
    "%matplotlib inline\n",
    "%config InlineBackend.figure_format = 'retina'\n",
    "\n",
    "import numpy as np\n",
    "import torch\n",
    "\n",
    "import helper\n",
    "\n",
    "import matplotlib.pyplot as plt"
   ]
  },
  {
   "cell_type": "markdown",
   "metadata": {},
   "source": [
    "\n",
    "Now we're going to build a larger network that can solve a (formerly) difficult problem, identifying text in an image. Here we'll use the MNIST dataset which consists of greyscale handwritten digits. Each image is 28x28 pixels, you can see a sample below\n",
    "\n",
    "<img src='assets/mnist.png'>\n",
    "\n",
    "Our goal is to build a neural network that can take one of these images and predict the digit in the image.\n",
    "\n",
    "First up, we need to get our dataset. This is provided through the `torchvision` package. The code below will download the MNIST dataset, then create training and test datasets for us. Don't worry too much about the details here, you'll learn more about this later."
   ]
  },
  {
   "cell_type": "code",
   "execution_count": 2,
   "metadata": {},
   "outputs": [],
   "source": [
    "### Run this cell\n",
    "\n",
    "from torchvision import datasets, transforms\n",
    "\n",
    "# Define a transform to normalize the data\n",
    "transform = transforms.Compose([transforms.ToTensor(),\n",
    "                              transforms.Normalize((0.5,), (0.5,)),\n",
    "                              ])\n",
    "\n",
    "# Download and load the training data\n",
    "trainset = datasets.MNIST('~/.pytorch/MNIST_data/', download=True, train=True, transform=transform)\n",
    "trainloader = torch.utils.data.DataLoader(trainset, batch_size=64, shuffle=True)"
   ]
  },
  {
   "cell_type": "markdown",
   "metadata": {},
   "source": [
    "We have the training data loaded into `trainloader` and we make that an iterator with `iter(trainloader)`. Later, we'll use this to loop through the dataset for training, like\n",
    "\n",
    "```python\n",
    "for image, label in trainloader:\n",
    "    ## do things with images and labels\n",
    "```\n",
    "\n",
    "You'll notice I created the `trainloader` with a batch size of 64, and `shuffle=True`. The batch size is the number of images we get in one iteration from the data loader and pass through our network, often called a *batch*. And `shuffle=True` tells it to shuffle the dataset every time we start going through the data loader again. But here I'm just grabbing the first batch so we can check out the data. We can see below that `images` is just a tensor with size `(64, 1, 28, 28)`. So, 64 images per batch, 1 color channel, and 28x28 images."
   ]
  },
  {
   "cell_type": "code",
   "execution_count": 3,
   "metadata": {},
   "outputs": [
    {
     "name": "stdout",
     "output_type": "stream",
     "text": [
      "<class 'torch.Tensor'>\n",
      "torch.Size([64, 1, 28, 28])\n",
      "torch.Size([64])\n"
     ]
    }
   ],
   "source": [
    "dataiter = iter(trainloader)\n",
    "images, labels = dataiter.next()\n",
    "print(type(images))\n",
    "print(images.shape)\n",
    "print(labels.shape)"
   ]
  },
  {
   "cell_type": "markdown",
   "metadata": {},
   "source": [
    "This is what one of the images looks like. "
   ]
  },
  {
   "cell_type": "code",
   "execution_count": 4,
   "metadata": {},
   "outputs": [
    {
     "data": {
      "image/png": "[encoded data removed]",
      "text/plain": [
       "<Figure size 432x288 with 1 Axes>"
      ]
     },
     "metadata": {
      "image/png": {
       "height": 248,
       "width": 251
      },
      "needs_background": "light"
     },
     "output_type": "display_data"
    }
   ],
   "source": [
    "plt.imshow(images[1].numpy().squeeze(), cmap='Greys_r');"
   ]
  },
  {
   "cell_type": "markdown",
   "metadata": {},
   "source": [
    "First, let's try to build a simple network for this dataset using weight matrices and matrix multiplications. Then, we'll see how to do it using PyTorch's `nn` module which provides a much more convenient and powerful method for defining network architectures.\n",
    "\n",
    "The networks you've seen so far are called *fully-connected* or *dense* networks. Each unit in one layer is connected to each unit in the next layer. In fully-connected networks, the input to each layer must be a one-dimensional vector (which can be stacked into a 2D tensor as a batch of multiple examples). However, our images are 28x28 2D tensors, so we need to convert them into 1D vectors. Thinking about sizes, we need to convert the batch of images with shape `(64, 1, 28, 28)` to a have a shape of `(64, 784)`, 784 is 28 times 28. This is typically called *flattening*, we flattened the 2D images into 1D vectors.\n",
    "\n",
    "Previously you built a network with one output unit. Here we need 10 output units, one for each digit. We want our network to predict the digit shown in an image, so what we'll do is calculate probabilities that the image is of any one digit or class. This ends up being a discrete probability distribution over the classes (digits) that tells us the most likely class for the image. That means we need 10 output units for the 10 classes (digits). We'll see how to convert the network output into a probability distribution next.\n",
    "\n",
    "> **Exercise:** Flatten the batch of images `images`. Then build a multi-layer network with 784 input units, 256 hidden units, and 10 output units using random tensors for the weights and biases. For now, use a sigmoid activation for the hidden layer. Leave the output layer without an activation, we'll add one that gives us a probability distribution next."
   ]
  },
  {
   "cell_type": "code",
   "execution_count": 5,
   "metadata": {},
   "outputs": [],
   "source": [
    "inputs = images.view(images.shape[0], -1)"
   ]
  },
  {
   "cell_type": "code",
   "execution_count": 6,
   "metadata": {},
   "outputs": [
    {
     "name": "stdout",
     "output_type": "stream",
     "text": [
      "tensor([[ -9.4919,  -9.6489,   2.4124, -12.0276,  -3.0823,   8.6102,  -3.2549,\n",
      "           2.6990,   5.2464, -30.6944],\n",
      "        [ -3.0280,  -9.1937,  -2.3428, -14.8332,  -4.0723,  10.4050,   0.9855,\n",
      "           0.6842,   7.3357, -27.5650],\n",
      "        [ -1.1743,  -7.5407,  -0.2566, -11.4062,  -3.4975,  16.9775,   4.7697,\n",
      "           1.8633,  16.1986, -21.6850],\n",
      "        [ -8.4040,   1.8678,   5.6093, -12.6678,   5.1251,  18.7327, -12.4701,\n",
      "          -2.9298,  19.4375, -23.9383],\n",
      "        [ -9.4888,  -0.6498,  -2.9131, -14.3476,  -8.3500,  11.4403,  -3.2876,\n",
      "           6.3598,   5.9550, -30.5583],\n",
      "        [ -5.5626, -12.4245,   4.4245,  -8.6913,  -4.6857,  10.4788,   1.9356,\n",
      "          -5.5304,  14.3433, -18.5231],\n",
      "        [ -4.9564,  -4.6163,  -3.0087,  -3.9984,  -4.3602,  13.2617,   1.2460,\n",
      "          -6.6121,  14.4134, -17.3711],\n",
      "        [-12.1643,  -7.9064,   3.2084,   0.1394,   3.5124,   3.2040, -11.9255,\n",
      "          -6.0569,   7.6314, -11.6406],\n",
      "        [ -3.8726,  -4.4505,   4.0120,  -9.8725,   1.7672,   7.2982,  -1.5205,\n",
      "          -4.4260,  13.1565, -26.7270],\n",
      "        [ -6.6228,  -8.8394,  -2.1714, -18.7022,   5.3555,  12.9153,  -5.6615,\n",
      "         -10.3579,  13.3083, -25.7982],\n",
      "        [-11.5982,  -3.5536,   4.2096, -20.7163,  -1.2707,  14.2296, -12.8499,\n",
      "          -2.3459,   8.6400, -25.6588],\n",
      "        [ -9.6467, -17.3451,   5.4429,  -2.1136,   5.0866,   5.1703,  -6.0377,\n",
      "          -1.9722,  16.6493,  -8.7083],\n",
      "        [ -9.3224,   5.1246,  10.3918, -22.6034,  -3.9544,  12.9931,  -6.2270,\n",
      "          -3.0750,  14.1983, -24.2021],\n",
      "        [-15.2742,   1.6136,  10.8669,  -8.0443,   0.1562,   3.4029, -16.3361,\n",
      "          -0.7138,   4.9583, -19.5393],\n",
      "        [ -1.6723,  -8.0089,  -5.9244, -14.9009,   0.8540,  10.6062,   1.3455,\n",
      "           4.3685,   9.6612, -30.6353],\n",
      "        [ -3.5808,  11.9217,   4.1275, -24.6309,  -3.2906,  18.0239,   1.1410,\n",
      "           0.7991,   3.7104, -18.7151],\n",
      "        [ -2.9570,   2.3930,  -5.0342, -16.0264,   1.0369,  21.9284,  -5.5774,\n",
      "          -9.0982,  12.5435, -26.2928],\n",
      "        [ -9.3888,   8.0361,   7.3798, -10.9079,   8.3073,  11.6264,   5.3901,\n",
      "           4.5999,  10.2817, -21.2972],\n",
      "        [ -3.6067,   0.5244,   4.0505, -14.2882,   8.0005,  12.2093,   1.3690,\n",
      "           8.0341,  13.6288, -23.5881],\n",
      "        [-12.7634,   6.1134,  11.7503, -20.6360,   1.1957,  11.5564, -11.2500,\n",
      "          -5.3234,   9.6693, -24.9794],\n",
      "        [-16.4591,   4.2580,  11.4240,  -0.8583,   3.2690,   2.3671, -11.8959,\n",
      "          -6.6220,   7.5314, -30.5330],\n",
      "        [ -7.4056,  -6.1809,   5.9120,  -7.7331,  -5.4754,   4.6199,  -4.8496,\n",
      "           1.4353,  13.0674, -28.7520],\n",
      "        [ -2.0786,   0.8928,  -0.4113, -15.6993,  -8.3910,  10.4112,   2.1464,\n",
      "           6.2442,   6.8363, -27.0839],\n",
      "        [ -5.5884,   8.3926,   5.7726, -18.3983,   6.1277,  15.2474,  -4.1537,\n",
      "           1.1371,  20.7499, -24.3237],\n",
      "        [ -2.2474,   1.7722,   0.3288, -11.6509,   5.2197,   3.4614,  -8.5798,\n",
      "           3.5095,  11.8121, -28.1055],\n",
      "        [ -7.0753,   4.1394,   3.5792, -17.1633,   8.6711,  20.7823,   3.1355,\n",
      "           5.7966,  13.7145, -24.2259],\n",
      "        [-16.1158,   7.6065,   5.9062, -11.2652,  -1.7399,  10.3519,  -8.1358,\n",
      "           1.6015,  15.8475, -21.9509],\n",
      "        [-11.4540,  -6.2717,   2.6784,  -9.7317,   8.8285,  14.8736,   2.8658,\n",
      "          -7.1901,  13.3453, -15.9709],\n",
      "        [ -9.2835,  -0.0852,   3.5835, -13.0927,  -4.5946,  11.4186,  -2.0087,\n",
      "          -3.8405,  12.8899, -31.8445],\n",
      "        [-12.2652,   5.7926,  14.7262, -11.1238,   2.6115,   9.3092,  -7.4117,\n",
      "           5.2691,  12.1584, -18.1895],\n",
      "        [-11.9824,  -7.1661,  -1.8840, -13.4892,  -0.7091,  18.7434,   6.9924,\n",
      "          -4.0618,   2.9342, -24.7647],\n",
      "        [ -6.9774,   7.5644,   8.5608,  -8.9191,  -2.2949,  19.9768,  -9.7347,\n",
      "          -4.8789,   2.5033, -27.6909],\n",
      "        [-12.6949,   0.6818,   8.3418, -13.1393,   5.6158,  19.3063,  -2.7079,\n",
      "           0.2571,   5.5407, -24.1485],\n",
      "        [-13.0236,   5.9776,  -4.0954, -11.4866,   1.5314,  17.2801,  -8.3832,\n",
      "          -3.2594,  -2.5315, -23.5736],\n",
      "        [ -7.8259,  -6.7403,   1.2626,  -8.3990,  -2.9376,   7.2437,  -9.4208,\n",
      "          -4.3089,  15.6013, -20.1627],\n",
      "        [ -7.6667,  -8.4969,   3.7529,  -8.6710,  -7.4820,   8.8261,  -7.0121,\n",
      "           8.4610,  11.8899, -16.9863],\n",
      "        [-12.6836,  -4.2927,   5.6247,  -8.9411,  -3.6387,   8.7512, -16.9955,\n",
      "          -4.3942,  13.8066, -22.2262],\n",
      "        [ -8.2235,  -9.1254,   3.5270,  -9.6399,  -5.1248,   6.5016,  -2.8305,\n",
      "          -6.3525,   4.1206, -18.6206],\n",
      "        [ -5.5343,  -0.7311,  -0.5696, -11.9884,  -3.6689,  15.4473,  -0.1980,\n",
      "         -12.1797,   9.4180, -34.0952],\n",
      "        [ -8.2544,   0.3805, -10.8697, -10.6874, -10.0468,  12.9805,  -5.2425,\n",
      "           4.7111,   1.4847, -28.6647],\n",
      "        [ -2.7374,   7.7555,   7.4589, -16.5213,   6.0064,  16.7612, -10.9225,\n",
      "         -10.6668,   5.8256, -25.2025],\n",
      "        [ -6.1085,  -4.0116,  10.6483, -19.2211,  -8.1101,  10.1647,  -4.4468,\n",
      "         -11.6411,  10.1954, -16.3501],\n",
      "        [ -8.1239,   1.8756,   3.7710, -17.9600,  -6.1098,   8.3885,  -5.3894,\n",
      "           9.6920,  13.1328, -27.6552],\n",
      "        [-11.2350,   5.8405,   5.2310, -12.4786,   1.4700,  19.0706, -13.1259,\n",
      "          -2.3141,  14.5023, -30.3428],\n",
      "        [ -2.6466,  -1.1791,   6.5139, -19.8947,  -4.2801,   8.8195,  -1.6047,\n",
      "           1.8882,  20.2744, -26.0352],\n",
      "        [ -7.8884,   9.5279,   6.4284, -15.6314,  -2.7102,  23.7040,   5.1598,\n",
      "          -1.7676,   3.1075, -16.8225],\n",
      "        [ -9.3338,  -7.6474,   1.5686,  -7.7505,  -1.2248,  10.2729,  -0.6717,\n",
      "          -1.6414,  11.2674, -17.4791],\n",
      "        [ -6.3029,   8.3581,   3.7892, -16.2352,  -6.6051,   7.9898,  -4.5169,\n",
      "           0.3174,   9.9711, -29.0671],\n",
      "        [ -3.0467,  -3.1630,   6.6104, -10.9781,   4.1166,  11.8481,  -5.3636,\n",
      "           0.7366,   8.1545, -20.6346],\n",
      "        [ -5.0892,  -5.7304,  -3.7852, -13.2926,  -2.5434,   4.2072,  -2.1125,\n",
      "           3.6652,   4.9645, -27.2241],\n",
      "        [-16.0354,  -0.5101,  14.6331, -10.6173,  -7.1815,   4.8645,  -6.5451,\n",
      "         -10.3991,  15.2517, -25.6985],\n",
      "        [ -8.1147, -14.2944,   0.6607,  -9.3060,  -6.9196,   1.3304,  -8.3683,\n",
      "         -11.9484,   4.3253, -17.9172],\n",
      "        [ -7.2538,   7.3094,   7.7743, -19.7721,  -1.2136,  14.9128,  -3.3915,\n",
      "           3.4803,  11.2850,  -8.9483],\n",
      "        [ -6.5023, -11.9327,   4.3285, -16.0700,  -0.2651,   5.4664,  -1.0833,\n",
      "           1.3229,  10.6871, -22.9712],\n",
      "        [-15.9515,  -5.6988,   6.8471, -10.1295,   0.4356,   1.2968,  -8.1035,\n",
      "         -11.3659,  11.5015, -33.6689],\n",
      "        [ -5.1141,  -3.8439,   7.7437, -19.3324,  -8.0935,  10.7085,  -0.5191,\n",
      "          -0.1176,   4.5182, -20.6624],\n",
      "        [ -9.4921,  -7.8039,   5.5604, -19.3518,  -1.6562,   7.5091,  -4.6785,\n",
      "          -1.6876,  13.2116, -23.7942],\n",
      "        [ -1.6742,   9.0982,   8.3356, -19.5164,   2.4301,  19.2442,  -2.1314,\n",
      "          -4.5740,   3.5333, -16.5561],\n",
      "        [ -8.9049,  13.7484,   8.1519,  -7.0809,   8.0862,  19.1482, -15.7392,\n",
      "           3.8198,  10.3472, -20.0333],\n",
      "        [ -5.6523,   2.4880,   0.5515, -15.0035,  -1.6988,  14.3847,   0.2011,\n",
      "           5.2182,  -0.8170, -32.0890],\n",
      "        [-15.3490,   3.2236,   4.8406, -12.8617,  -2.0336,   4.8957,   0.1869,\n",
      "          -3.5057,  11.0786, -20.3082],\n",
      "        [ -8.4172,   4.7880,  10.6491, -16.0753,   0.7600,   9.7437,  -5.7552,\n",
      "          -0.1216,  13.3968, -21.9825],\n",
      "        [ -7.0296,   3.1904,   2.9637, -11.1163,   5.2551,   3.3339,  -3.4833,\n",
      "          -0.3171,  10.6566, -26.6775],\n",
      "        [ -5.8700,  -2.1082,  -2.7904,  -8.6200,  -4.1334,  10.6520,  -4.0880,\n",
      "           2.0295,   6.1164, -29.9977]])\n"
     ]
    }
   ],
   "source": [
    "## Your solution\n",
    "def activation(x):\n",
    "    return 1/ (1+ torch.exp(-x))\n",
    "\n",
    "input_unit = 784\n",
    "hidden_unit = 256\n",
    "output_unit = 10\n",
    "\n",
    "w1 = torch.randn(input_unit, hidden_unit)\n",
    "w2 = torch.randn(hidden_unit, output_unit)\n",
    "\n",
    "b1 = torch.randn(hidden_unit)\n",
    "b2 = torch.randn(output_unit)\n",
    "\n",
    "h = activation(torch.mm(inputs, w1) + b1)\n",
    "\n",
    "out = torch.mm(h, w2) + b2\n",
    "print(out)"
   ]
  },
  {
   "cell_type": "markdown",
   "metadata": {},
   "source": [
    "Now we have 10 outputs for our network. We want to pass in an image to our network and get out a probability distribution over the classes that tells us the likely class(es) the image belongs to. Something that looks like this:\n",
    "<img src='assets/image_distribution.png' width=500px>\n",
    "\n",
    "Here we see that the probability for each class is roughly the same. This is representing an untrained network, it hasn't seen any data yet so it just returns a uniform distribution with equal probabilities for each class.\n",
    "\n",
    "To calculate this probability distribution, we often use the [**softmax** function](https://en.wikipedia.org/wiki/Softmax_function). Mathematically this looks like\n",
    "\n",
    "$$\n",
    "\\Large \\sigma(x_i) = \\cfrac{e^{x_i}}{\\sum_k^K{e^{x_k}}}\n",
    "$$\n",
    "\n",
    "What this does is squish each input $x_i$ between 0 and 1 and normalizes the values to give you a proper probability distribution where the probabilites sum up to one.\n",
    "\n",
    "> **Exercise:** Implement a function `softmax` that performs the softmax calculation and returns probability distributions for each example in the batch. Note that you'll need to pay attention to the shapes when doing this. If you have a tensor `a` with shape `(64, 10)` and a tensor `b` with shape `(64,)`, doing `a/b` will give you an error because PyTorch will try to do the division across the columns (called broadcasting) but you'll get a size mismatch. The way to think about this is for each of the 64 examples, you only want to divide by one value, the sum in the denominator. So you need `b` to have a shape of `(64, 1)`. This way PyTorch will divide the 10 values in each row of `a` by the one value in each row of `b`. Pay attention to how you take the sum as well. You'll need to define the `dim` keyword in `torch.sum`. Setting `dim=0` takes the sum across the rows while `dim=1` takes the sum across the columns."
   ]
  },
  {
   "cell_type": "code",
   "execution_count": 7,
   "metadata": {},
   "outputs": [
    {
     "data": {
      "text/plain": [
       "torch.Size([64, 1])"
      ]
     },
     "execution_count": 7,
     "metadata": {},
     "output_type": "execute_result"
    }
   ],
   "source": [
    "torch.sum(torch.exp(out), dim = 1).view(-1, 1).shape"
   ]
  },
  {
   "cell_type": "code",
   "execution_count": 8,
   "metadata": {},
   "outputs": [
    {
     "name": "stdout",
     "output_type": "stream",
     "text": [
      "torch.Size([64, 10])\n",
      "tensor([1.0000, 1.0000, 1.0000, 1.0000, 1.0000, 1.0000, 1.0000, 1.0000, 1.0000,\n",
      "        1.0000, 1.0000, 1.0000, 1.0000, 1.0000, 1.0000, 1.0000, 1.0000, 1.0000,\n",
      "        1.0000, 1.0000, 1.0000, 1.0000, 1.0000, 1.0000, 1.0000, 1.0000, 1.0000,\n",
      "        1.0000, 1.0000, 1.0000, 1.0000, 1.0000, 1.0000, 1.0000, 1.0000, 1.0000,\n",
      "        1.0000, 1.0000, 1.0000, 1.0000, 1.0000, 1.0000, 1.0000, 1.0000, 1.0000,\n",
      "        1.0000, 1.0000, 1.0000, 1.0000, 1.0000, 1.0000, 1.0000, 1.0000, 1.0000,\n",
      "        1.0000, 1.0000, 1.0000, 1.0000, 1.0000, 1.0000, 1.0000, 1.0000, 1.0000,\n",
      "        1.0000])\n"
     ]
    }
   ],
   "source": [
    "def softmax(x):\n",
    "    ## TODO: Implement the softmax function here\n",
    "    return torch.exp(x) / torch.sum(torch.exp(x), dim = 1).view(-1, 1)\n",
    "# Here, out should be the output of the network in the previous excercise with shape (64,10)\n",
    "probabilities = softmax(out)\n",
    "\n",
    "# Does it have the right shape? Should be (64, 10)\n",
    "print(probabilities.shape)\n",
    "# Does it sum to 1?\n",
    "print(probabilities.sum(dim=1))\n",
    "#print(probabilities)"
   ]
  },
  {
   "cell_type": "markdown",
   "metadata": {},
   "source": [
    "## Building networks with PyTorch\n",
    "\n",
    "PyTorch provides a module `nn` that makes building networks much simpler. Here I'll show you how to build the same one as above with 784 inputs, 256 hidden units, 10 output units and a softmax output."
   ]
  },
  {
   "cell_type": "code",
   "execution_count": 9,
   "metadata": {},
   "outputs": [],
   "source": [
    "from torch import nn"
   ]
  },
  {
   "cell_type": "code",
   "execution_count": 10,
   "metadata": {},
   "outputs": [],
   "source": [
    "class Network(nn.Module):\n",
    "    def __init__(self):\n",
    "        super().__init__()\n",
    "        \n",
    "        # Inputs to hidden layer linear transformation\n",
    "        self.hidden = nn.Linear(784, 256)\n",
    "        # Output layer, 10 units - one for each digit\n",
    "        self.output = nn.Linear(256, 10)\n",
    "        \n",
    "        # Define sigmoid activation and softmax output \n",
    "        self.sigmoid = nn.Sigmoid()\n",
    "        self.softmax = nn.Softmax(dim=1)\n",
    "        \n",
    "    def forward(self, x):\n",
    "        # Pass the input tensor through each of our operations\n",
    "        x = self.hidden(x)\n",
    "        x = self.sigmoid(x)\n",
    "        x = self.output(x)\n",
    "        x = self.softmax(x)\n",
    "        \n",
    "        return x"
   ]
  },
  {
   "cell_type": "markdown",
   "metadata": {},
   "source": [
    "Let's go through this bit by bit.\n",
    "\n",
    "```python\n",
    "class Network(nn.Module):\n",
    "```\n",
    "\n",
    "Here we're inheriting from `nn.Module`. Combined with `super().__init__()` this creates a class that tracks the architecture and provides a lot of useful methods and attributes. It is mandatory to inherit from `nn.Module` when you're creating a class for your network. The name of the class itself can be anything.\n",
    "\n",
    "```python\n",
    "self.hidden = nn.Linear(784, 256)\n",
    "```\n",
    "\n",
    "This line creates a module for a linear transformation, $x\\mathbf{W} + b$, with 784 inputs and 256 outputs and assigns it to `self.hidden`. The module automatically creates the weight and bias tensors which we'll use in the `forward` method. You can access the weight and bias tensors once the network (`net`) is created with `net.hidden.weight` and `net.hidden.bias`.\n",
    "\n",
    "```python\n",
    "self.output = nn.Linear(256, 10)\n",
    "```\n",
    "\n",
    "Similarly, this creates another linear transformation with 256 inputs and 10 outputs.\n",
    "\n",
    "```python\n",
    "self.sigmoid = nn.Sigmoid()\n",
    "self.softmax = nn.Softmax(dim=1)\n",
    "```\n",
    "\n",
    "Here I defined operations for the sigmoid activation and softmax output. Setting `dim=1` in `nn.Softmax(dim=1)` calculates softmax across the columns.\n",
    "\n",
    "```python\n",
    "def forward(self, x):\n",
    "```\n",
    "\n",
    "PyTorch networks created with `nn.Module` must have a `forward` method defined. It takes in a tensor `x` and passes it through the operations you defined in the `__init__` method.\n",
    "\n",
    "```python\n",
    "x = self.hidden(x)\n",
    "x = self.sigmoid(x)\n",
    "x = self.output(x)\n",
    "x = self.softmax(x)\n",
    "```\n",
    "\n",
    "Here the input tensor `x` is passed through each operation and reassigned to `x`. We can see that the input tensor goes through the hidden layer, then a sigmoid function, then the output layer, and finally the softmax function. It doesn't matter what you name the variables here, as long as the inputs and outputs of the operations match the network architecture you want to build. The order in which you define things in the `__init__` method doesn't matter, but you'll need to sequence the operations correctly in the `forward` method.\n",
    "\n",
    "Now we can create a `Network` object."
   ]
  },
  {
   "cell_type": "code",
   "execution_count": 11,
   "metadata": {},
   "outputs": [
    {
     "data": {
      "text/plain": [
       "Network(\n",
       "  (hidden): Linear(in_features=784, out_features=256, bias=True)\n",
       "  (output): Linear(in_features=256, out_features=10, bias=True)\n",
       "  (sigmoid): Sigmoid()\n",
       "  (softmax): Softmax()\n",
       ")"
      ]
     },
     "execution_count": 11,
     "metadata": {},
     "output_type": "execute_result"
    }
   ],
   "source": [
    "# Create the network and look at it's text representation\n",
    "model = Network()\n",
    "model"
   ]
  },
  {
   "cell_type": "markdown",
   "metadata": {},
   "source": [
    "You can define the network somewhat more concisely and clearly using the `torch.nn.functional` module. This is the most common way you'll see networks defined as many operations are simple element-wise functions. We normally import this module as `F`, `import torch.nn.functional as F`."
   ]
  },
  {
   "cell_type": "code",
   "execution_count": 12,
   "metadata": {},
   "outputs": [],
   "source": [
    "import torch.nn.functional as F\n",
    "\n",
    "class Network(nn.Module):\n",
    "    def __init__(self):\n",
    "        super().__init__()\n",
    "        # Inputs to hidden layer linear transformation\n",
    "        self.hidden = nn.Linear(784, 256)\n",
    "        # Output layer, 10 units - one for each digit\n",
    "        self.output = nn.Linear(256, 10)\n",
    "        \n",
    "    def forward(self, x):\n",
    "        # Hidden layer with sigmoid activation\n",
    "        x = F.sigmoid(self.hidden(x))\n",
    "        # Output layer with softmax activation\n",
    "        x = F.softmax(self.output(x), dim=1)\n",
    "        \n",
    "        return x"
   ]
  },
  {
   "cell_type": "markdown",
   "metadata": {},
   "source": [
    "### Activation functions\n",
    "\n",
    "So far we've only been looking at the sigmoid activation function, but in general any function can be used as an activation function. The only requirement is that for a network to approximate a non-linear function, the activation functions must be non-linear. Here are a few more examples of common activation functions: Tanh (hyperbolic tangent), and ReLU (rectified linear unit).\n",
    "\n",
    "<img src=\"assets/activation.png\" width=700px>\n",
    "\n",
    "In practice, the ReLU function is used almost exclusively as the activation function for hidden layers."
   ]
  },
  {
   "cell_type": "markdown",
   "metadata": {},
   "source": [
    "### Your Turn to Build a Network\n",
    "\n",
    "<img src=\"assets/mlp_mnist.png\" width=600px>\n",
    "\n",
    "> **Exercise:** Create a network with 784 input units, a hidden layer with 128 units and a ReLU activation, then a hidden layer with 64 units and a ReLU activation, and finally an output layer with a softmax activation as shown above. You can use a ReLU activation with the `nn.ReLU` module or `F.relu` function.\n",
    "\n",
    "It's good practice to name your layers by their type of network, for instance 'fc' to represent a fully-connected layer. As you code your solution, use `fc1`, `fc2`, and `fc3` as your layer names."
   ]
  },
  {
   "cell_type": "code",
   "execution_count": 13,
   "metadata": {
    "scrolled": true
   },
   "outputs": [],
   "source": [
    "## Your solution here\n",
    "import torch.nn.functional as F\n",
    "\n",
    "class Network(nn.Module):\n",
    "    def __init__(self):\n",
    "        super().__init__()\n",
    "        \n",
    "        self.fc1 = nn.Linear(784, 128)\n",
    "        self.fc2 = nn.Linear(128, 64)\n",
    "        self.fc3 = nn.Linear(64, 10)\n",
    "        \n",
    "    def forward(self, x):\n",
    "        x = F.relu(self.fc1(x))\n",
    "        x = F.relu(self.fc2(x))\n",
    "        x = F.softmax(self.fc3(x), dim=1)\n",
    "        \n",
    "        return x\n",
    "\n",
    "model = Network()"
   ]
  },
  {
   "cell_type": "markdown",
   "metadata": {},
   "source": [
    "### Initializing weights and biases\n",
    "\n",
    "The weights and such are automatically initialized for you, but it's possible to customize how they are initialized. The weights and biases are tensors attached to the layer you defined, you can get them with `model.fc1.weight` for instance."
   ]
  },
  {
   "cell_type": "code",
   "execution_count": 14,
   "metadata": {},
   "outputs": [
    {
     "name": "stdout",
     "output_type": "stream",
     "text": [
      "Parameter containing:\n",
      "tensor([[-0.0247,  0.0073,  0.0209,  ...,  0.0034,  0.0039,  0.0171],\n",
      "        [-0.0243,  0.0291, -0.0098,  ..., -0.0343, -0.0342, -0.0259],\n",
      "        [ 0.0331,  0.0007,  0.0078,  ..., -0.0005, -0.0150, -0.0270],\n",
      "        ...,\n",
      "        [ 0.0343,  0.0218,  0.0262,  ..., -0.0227, -0.0329, -0.0075],\n",
      "        [ 0.0349, -0.0294, -0.0111,  ...,  0.0304,  0.0356, -0.0032],\n",
      "        [-0.0283, -0.0299,  0.0194,  ..., -0.0062,  0.0284, -0.0123]],\n",
      "       requires_grad=True)\n",
      "Parameter containing:\n",
      "tensor([-0.0344,  0.0253, -0.0142, -0.0058,  0.0016,  0.0003, -0.0318,  0.0219,\n",
      "         0.0072, -0.0305, -0.0028, -0.0327, -0.0107,  0.0284, -0.0271,  0.0135,\n",
      "         0.0288,  0.0180,  0.0119,  0.0174, -0.0113, -0.0217,  0.0207,  0.0357,\n",
      "        -0.0189, -0.0064,  0.0256, -0.0206,  0.0135,  0.0139,  0.0225,  0.0349,\n",
      "        -0.0178, -0.0235, -0.0239, -0.0176,  0.0095, -0.0317,  0.0208,  0.0052,\n",
      "        -0.0216,  0.0323,  0.0124, -0.0044, -0.0150, -0.0251,  0.0157, -0.0313,\n",
      "        -0.0357, -0.0288, -0.0073, -0.0117, -0.0288,  0.0187,  0.0229, -0.0264,\n",
      "        -0.0330, -0.0021, -0.0296, -0.0205,  0.0269, -0.0066, -0.0300, -0.0147,\n",
      "         0.0032, -0.0010, -0.0295, -0.0011, -0.0339, -0.0282,  0.0109, -0.0057,\n",
      "         0.0030, -0.0278,  0.0085, -0.0057, -0.0103, -0.0321,  0.0138, -0.0141,\n",
      "         0.0283, -0.0281, -0.0131, -0.0314,  0.0070,  0.0325,  0.0012,  0.0092,\n",
      "        -0.0158,  0.0306, -0.0242, -0.0170, -0.0280, -0.0354, -0.0083,  0.0249,\n",
      "        -0.0103,  0.0309,  0.0107,  0.0203, -0.0147,  0.0201,  0.0108, -0.0267,\n",
      "        -0.0114,  0.0020,  0.0123,  0.0134, -0.0216, -0.0339, -0.0093, -0.0244,\n",
      "         0.0215,  0.0266,  0.0314,  0.0014,  0.0287,  0.0344, -0.0186, -0.0259,\n",
      "         0.0070, -0.0139, -0.0262, -0.0140,  0.0293, -0.0189,  0.0353,  0.0227],\n",
      "       requires_grad=True)\n"
     ]
    }
   ],
   "source": [
    "print(model.fc1.weight)\n",
    "print(model.fc1.bias)"
   ]
  },
  {
   "cell_type": "markdown",
   "metadata": {},
   "source": [
    "For custom initialization, we want to modify these tensors in place. These are actually autograd *Variables*, so we need to get back the actual tensors with `model.fc1.weight.data`. Once we have the tensors, we can fill them with zeros (for biases) or random normal values."
   ]
  },
  {
   "cell_type": "code",
   "execution_count": 15,
   "metadata": {},
   "outputs": [
    {
     "data": {
      "text/plain": [
       "tensor([0., 0., 0., 0., 0., 0., 0., 0., 0., 0., 0., 0., 0., 0., 0., 0., 0., 0., 0., 0., 0., 0., 0., 0.,\n",
       "        0., 0., 0., 0., 0., 0., 0., 0., 0., 0., 0., 0., 0., 0., 0., 0., 0., 0., 0., 0., 0., 0., 0., 0.,\n",
       "        0., 0., 0., 0., 0., 0., 0., 0., 0., 0., 0., 0., 0., 0., 0., 0., 0., 0., 0., 0., 0., 0., 0., 0.,\n",
       "        0., 0., 0., 0., 0., 0., 0., 0., 0., 0., 0., 0., 0., 0., 0., 0., 0., 0., 0., 0., 0., 0., 0., 0.,\n",
       "        0., 0., 0., 0., 0., 0., 0., 0., 0., 0., 0., 0., 0., 0., 0., 0., 0., 0., 0., 0., 0., 0., 0., 0.,\n",
       "        0., 0., 0., 0., 0., 0., 0., 0.])"
      ]
     },
     "execution_count": 15,
     "metadata": {},
     "output_type": "execute_result"
    }
   ],
   "source": [
    "# Set biases to all zeros\n",
    "model.fc1.bias.data.fill_(0)"
   ]
  },
  {
   "cell_type": "code",
   "execution_count": 16,
   "metadata": {},
   "outputs": [
    {
     "data": {
      "text/plain": [
       "tensor([[ 2.8352e-02,  8.9478e-03, -1.3294e-02,  ..., -4.3985e-04,\n",
       "          2.0663e-02,  5.9779e-04],\n",
       "        [ 6.8468e-03, -7.1588e-03, -1.4155e-03,  ..., -1.2409e-02,\n",
       "         -3.2968e-04,  2.9466e-03],\n",
       "        [-1.5266e-02,  1.1553e-02, -6.5376e-04,  ...,  7.7570e-03,\n",
       "          4.0717e-03, -9.4860e-03],\n",
       "        ...,\n",
       "        [-1.2026e-03, -8.2092e-03,  6.0035e-03,  ...,  1.3767e-02,\n",
       "         -6.5357e-05,  1.7500e-02],\n",
       "        [ 1.1651e-02,  8.3451e-03,  6.3109e-03,  ..., -2.1641e-02,\n",
       "          2.4278e-03,  2.5227e-02],\n",
       "        [ 8.6266e-03,  4.1341e-03, -9.7267e-04,  ...,  3.5760e-03,\n",
       "         -2.0573e-02, -9.5621e-03]])"
      ]
     },
     "execution_count": 16,
     "metadata": {},
     "output_type": "execute_result"
    }
   ],
   "source": [
    "# sample from random normal with standard dev = 0.01\n",
    "model.fc1.weight.data.normal_(std=0.01)"
   ]
  },
  {
   "cell_type": "markdown",
   "metadata": {},
   "source": [
    "### Forward pass\n",
    "\n",
    "Now that we have a network, let's see what happens when we pass in an image."
   ]
  },
  {
   "cell_type": "code",
   "execution_count": 17,
   "metadata": {},
   "outputs": [
    {
     "data": {
      "image/png": "[encoded data removed]",
      "text/plain": [
       "<Figure size 432x648 with 2 Axes>"
      ]
     },
     "metadata": {
      "image/png": {
       "height": 235,
       "width": 424
      },
      "needs_background": "light"
     },
     "output_type": "display_data"
    }
   ],
   "source": [
    "# Grab some data \n",
    "dataiter = iter(trainloader)\n",
    "images, labels = dataiter.next()\n",
    "\n",
    "# Resize images into a 1D vector, new shape is (batch size, color channels, image pixels) \n",
    "images.resize_(64, 1, 784)\n",
    "# or images.resize_(images.shape[0], 1, 784) to automatically get batch size\n",
    "\n",
    "# Forward pass through the network\n",
    "img_idx = 0\n",
    "ps = model.forward(images[img_idx,:])\n",
    "\n",
    "img = images[img_idx]\n",
    "helper.view_classify(img.view(1, 28, 28), ps)"
   ]
  },
  {
   "cell_type": "markdown",
   "metadata": {},
   "source": [
    "As you can see above, our network has basically no idea what this digit is. It's because we haven't trained it yet, all the weights are random!\n",
    "\n",
    "### Using `nn.Sequential`\n",
    "\n",
    "PyTorch provides a convenient way to build networks like this where a tensor is passed sequentially through operations, `nn.Sequential` ([documentation](https://pytorch.org/docs/master/nn.html#torch.nn.Sequential)). Using this to build the equivalent network:"
   ]
  },
  {
   "cell_type": "code",
   "execution_count": 18,
   "metadata": {},
   "outputs": [
    {
     "name": "stdout",
     "output_type": "stream",
     "text": [
      "Sequential(\n",
      "  (0): Linear(in_features=784, out_features=128, bias=True)\n",
      "  (1): ReLU()\n",
      "  (2): Linear(in_features=128, out_features=64, bias=True)\n",
      "  (3): ReLU()\n",
      "  (4): Linear(in_features=64, out_features=10, bias=True)\n",
      "  (5): Softmax()\n",
      ")\n"
     ]
    },
    {
     "data": {
      "image/png": "[encoded data removed]",
      "text/plain": [
       "<Figure size 432x648 with 2 Axes>"
      ]
     },
     "metadata": {
      "image/png": {
       "height": 235,
       "width": 424
      },
      "needs_background": "light"
     },
     "output_type": "display_data"
    }
   ],
   "source": [
    "# Hyperparameters for our network\n",
    "input_size = 784\n",
    "hidden_sizes = [128, 64]\n",
    "output_size = 10\n",
    "\n",
    "# Build a feed-forward network\n",
    "model = nn.Sequential(nn.Linear(input_size, hidden_sizes[0]),\n",
    "                      nn.ReLU(),\n",
    "                      nn.Linear(hidden_sizes[0], hidden_sizes[1]),\n",
    "                      nn.ReLU(),\n",
    "                      nn.Linear(hidden_sizes[1], output_size),\n",
    "                      nn.Softmax(dim=1))\n",
    "print(model)\n",
    "\n",
    "# Forward pass through the network and display output\n",
    "images, labels = next(iter(trainloader))\n",
    "images.resize_(images.shape[0], 1, 784)\n",
    "ps = model.forward(images[0,:])\n",
    "helper.view_classify(images[0].view(1, 28, 28), ps)"
   ]
  },
  {
   "cell_type": "markdown",
   "metadata": {},
   "source": [
    "Here our model is the same as before: 784 input units, a hidden layer with 128 units, ReLU activation, 64 unit hidden layer, another ReLU, then the output layer with 10 units, and the softmax output.\n",
    "\n",
    "The operations are available by passing in the appropriate index. For example, if you want to get first Linear operation and look at the weights, you'd use `model[0]`."
   ]
  },
  {
   "cell_type": "code",
   "execution_count": 19,
   "metadata": {},
   "outputs": [
    {
     "name": "stdout",
     "output_type": "stream",
     "text": [
      "Linear(in_features=784, out_features=128, bias=True)\n"
     ]
    },
    {
     "data": {
      "text/plain": [
       "Parameter containing:\n",
       "tensor([[-0.0166, -0.0257,  0.0215,  ...,  0.0268,  0.0260, -0.0271],\n",
       "        [-0.0299, -0.0086, -0.0079,  ...,  0.0040,  0.0309,  0.0299],\n",
       "        [ 0.0198, -0.0249, -0.0230,  ...,  0.0090,  0.0285, -0.0017],\n",
       "        ...,\n",
       "        [ 0.0229,  0.0126, -0.0300,  ..., -0.0025, -0.0280, -0.0068],\n",
       "        [-0.0206,  0.0145,  0.0297,  ..., -0.0338,  0.0002, -0.0348],\n",
       "        [-0.0178, -0.0019, -0.0155,  ...,  0.0355,  0.0036,  0.0294]],\n",
       "       requires_grad=True)"
      ]
     },
     "execution_count": 19,
     "metadata": {},
     "output_type": "execute_result"
    }
   ],
   "source": [
    "print(model[0])\n",
    "model[0].weight"
   ]
  },
  {
   "cell_type": "markdown",
   "metadata": {},
   "source": [
    "You can also pass in an `OrderedDict` to name the individual layers and operations, instead of using incremental integers. Note that dictionary keys must be unique, so _each operation must have a different name_."
   ]
  },
  {
   "cell_type": "code",
   "execution_count": 20,
   "metadata": {},
   "outputs": [
    {
     "data": {
      "text/plain": [
       "Sequential(\n",
       "  (fc1): Linear(in_features=784, out_features=128, bias=True)\n",
       "  (relu1): ReLU()\n",
       "  (fc2): Linear(in_features=128, out_features=64, bias=True)\n",
       "  (relu2): ReLU()\n",
       "  (output): Linear(in_features=64, out_features=10, bias=True)\n",
       "  (softmax): Softmax()\n",
       ")"
      ]
     },
     "execution_count": 20,
     "metadata": {},
     "output_type": "execute_result"
    }
   ],
   "source": [
    "from collections import OrderedDict\n",
    "model = nn.Sequential(OrderedDict([\n",
    "                      ('fc1', nn.Linear(input_size, hidden_sizes[0])),\n",
    "                      ('relu1', nn.ReLU()),\n",
    "                      ('fc2', nn.Linear(hidden_sizes[0], hidden_sizes[1])),\n",
    "                      ('relu2', nn.ReLU()),\n",
    "                      ('output', nn.Linear(hidden_sizes[1], output_size)),\n",
    "                      ('softmax', nn.Softmax(dim=1))]))\n",
    "model"
   ]
  },
  {
   "cell_type": "markdown",
   "metadata": {},
   "source": [
    "Now you can access layers either by integer or the name"
   ]
  },
  {
   "cell_type": "code",
   "execution_count": 21,
   "metadata": {},
   "outputs": [
    {
     "name": "stdout",
     "output_type": "stream",
     "text": [
      "Linear(in_features=784, out_features=128, bias=True)\n",
      "Linear(in_features=784, out_features=128, bias=True)\n"
     ]
    }
   ],
   "source": [
    "print(model[0])\n",
    "print(model.fc1)"
   ]
  },
  {
   "cell_type": "markdown",
   "metadata": {},
   "source": [
    "In the next notebook, we'll see how we can train a neural network to accuractly predict the numbers appearing in the MNIST images."
   ]
  }
 ],
 "metadata": {
  "kernelspec": {
   "display_name": "Python 3",
   "language": "python",
   "name": "python3"
  },
  "language_info": {
   "codemirror_mode": {
    "name": "ipython",
    "version": 3
   },
   "file_extension": ".py",
   "mimetype": "text/x-python",
   "name": "python",
   "nbconvert_exporter": "python",
   "pygments_lexer": "ipython3",
   "version": "3.7.3"
  }
 },
 "nbformat": 4,
 "nbformat_minor": 2
}
